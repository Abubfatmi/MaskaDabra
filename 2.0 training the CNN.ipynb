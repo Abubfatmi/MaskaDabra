{
 "cells": [
  {
   "cell_type": "code",
   "execution_count": 5,
   "metadata": {},
   "outputs": [],
   "source": [
    "import numpy as np\n",
    "\n",
    "data=np.load('data.npy')\n",
    "target=np.load('target.npy')\n",
    "\n",
    "#loading the save numpy arrays in the previous code"
   ]
  },
  {
   "cell_type": "code",
   "execution_count": 6,
   "metadata": {},
   "outputs": [],
   "source": [
    "from keras.models import Sequential, save_model\n",
    "from keras.layers import Dense,Activation,Flatten,Dropout\n",
    "from keras.layers import Conv2D,MaxPooling2D\n",
    "from keras.callbacks import ModelCheckpoint\n",
    "\n",
    "model=Sequential()\n",
    "\n",
    "model.add(Conv2D(200,(3,3),input_shape=data.shape[1:]))\n",
    "model.add(Activation('relu'))\n",
    "model.add(MaxPooling2D(pool_size=(2,2)))\n",
    "#The first CNN layer followed by Relu and MaxPooling layers\n",
    "\n",
    "model.add(Conv2D(100,(3,3)))\n",
    "model.add(Activation('relu'))\n",
    "model.add(MaxPooling2D(pool_size=(2,2)))\n",
    "#The second convolution layer followed by Relu and MaxPooling layers\n",
    "\n",
    "model.add(Flatten())\n",
    "model.add(Dropout(0.5))\n",
    "#Flatten layer to stack the output convolutions from second convolution layer\n",
    "model.add(Dense(50,activation='relu'))\n",
    "#Dense layer of 64 neurons\n",
    "model.add(Dense(2,activation='softmax'))\n",
    "#The Final layer with two outputs for two categories\n",
    "\n",
    "model.compile(loss='categorical_crossentropy',optimizer='adam',metrics=['accuracy'])"
   ]
  },
  {
   "cell_type": "code",
   "execution_count": 7,
   "metadata": {},
   "outputs": [],
   "source": [
    "from sklearn.model_selection import train_test_split\n",
    "\n",
    "train_data,test_data,train_target,test_target=train_test_split(data,target,test_size=0.1)"
   ]
  },
  {
   "cell_type": "code",
   "execution_count": 8,
   "metadata": {},
   "outputs": [
    {
     "name": "stdout",
     "output_type": "stream",
     "text": [
      "Epoch 1/20\n",
      "50/50 [==============================] - ETA: 0s - loss: 0.5944 - accuracy: 0.6863INFO:tensorflow:Assets written to: model-001.model\\assets\n",
      "50/50 [==============================] - 92s 2s/step - loss: 0.5944 - accuracy: 0.6863 - val_loss: 0.4802 - val_accuracy: 0.7677\n",
      "Epoch 2/20\n",
      "50/50 [==============================] - ETA: 0s - loss: 0.3909 - accuracy: 0.8273INFO:tensorflow:Assets written to: model-002.model\\assets\n",
      "50/50 [==============================] - 100s 2s/step - loss: 0.3909 - accuracy: 0.8273 - val_loss: 0.4147 - val_accuracy: 0.7828\n",
      "Epoch 3/20\n",
      "50/50 [==============================] - ETA: 0s - loss: 0.3161 - accuracy: 0.8672INFO:tensorflow:Assets written to: model-003.model\\assets\n",
      "50/50 [==============================] - 100s 2s/step - loss: 0.3161 - accuracy: 0.8672 - val_loss: 0.3181 - val_accuracy: 0.9040\n",
      "Epoch 4/20\n",
      "50/50 [==============================] - ETA: 0s - loss: 0.2535 - accuracy: 0.9020INFO:tensorflow:Assets written to: model-004.model\\assets\n",
      "50/50 [==============================] - 93s 2s/step - loss: 0.2535 - accuracy: 0.9020 - val_loss: 0.2856 - val_accuracy: 0.8889\n",
      "Epoch 5/20\n",
      "50/50 [==============================] - ETA: 0s - loss: 0.2088 - accuracy: 0.9222INFO:tensorflow:Assets written to: model-005.model\\assets\n",
      "50/50 [==============================] - 87s 2s/step - loss: 0.2088 - accuracy: 0.9222 - val_loss: 0.2589 - val_accuracy: 0.9040\n",
      "Epoch 6/20\n",
      "50/50 [==============================] - ETA: 0s - loss: 0.1607 - accuracy: 0.9349INFO:tensorflow:Assets written to: model-006.model\\assets\n",
      "50/50 [==============================] - 86s 2s/step - loss: 0.1607 - accuracy: 0.9349 - val_loss: 0.2500 - val_accuracy: 0.9217\n",
      "Epoch 7/20\n",
      "50/50 [==============================] - 95s 2s/step - loss: 0.1478 - accuracy: 0.9431 - val_loss: 0.3395 - val_accuracy: 0.8914\n",
      "Epoch 8/20\n",
      "50/50 [==============================] - 96s 2s/step - loss: 0.1345 - accuracy: 0.9507 - val_loss: 0.4229 - val_accuracy: 0.8636\n",
      "Epoch 9/20\n",
      "50/50 [==============================] - 96s 2s/step - loss: 0.1159 - accuracy: 0.9494 - val_loss: 0.3249 - val_accuracy: 0.8788\n",
      "Epoch 10/20\n",
      "50/50 [==============================] - 102s 2s/step - loss: 0.1143 - accuracy: 0.9583 - val_loss: 0.3549 - val_accuracy: 0.9116\n",
      "Epoch 11/20\n",
      "50/50 [==============================] - 99s 2s/step - loss: 0.0708 - accuracy: 0.9753 - val_loss: 0.3277 - val_accuracy: 0.9066\n",
      "Epoch 12/20\n",
      "50/50 [==============================] - 102s 2s/step - loss: 0.0904 - accuracy: 0.9658 - val_loss: 0.3207 - val_accuracy: 0.9040\n",
      "Epoch 13/20\n",
      "50/50 [==============================] - 122s 2s/step - loss: 0.0723 - accuracy: 0.9722 - val_loss: 0.3980 - val_accuracy: 0.9192\n",
      "Epoch 14/20\n",
      "50/50 [==============================] - 111s 2s/step - loss: 0.0610 - accuracy: 0.9753 - val_loss: 0.3909 - val_accuracy: 0.9091\n",
      "Epoch 15/20\n",
      "50/50 [==============================] - 112s 2s/step - loss: 0.0674 - accuracy: 0.9760 - val_loss: 0.3993 - val_accuracy: 0.9091\n",
      "Epoch 16/20\n",
      "50/50 [==============================] - 116s 2s/step - loss: 0.0868 - accuracy: 0.9677 - val_loss: 0.5110 - val_accuracy: 0.8965\n",
      "Epoch 17/20\n",
      "50/50 [==============================] - 117s 2s/step - loss: 0.0653 - accuracy: 0.9785 - val_loss: 0.3579 - val_accuracy: 0.9192\n",
      "Epoch 18/20\n",
      "50/50 [==============================] - 106s 2s/step - loss: 0.0564 - accuracy: 0.9766 - val_loss: 0.3701 - val_accuracy: 0.9141\n",
      "Epoch 19/20\n",
      "50/50 [==============================] - 88s 2s/step - loss: 0.0326 - accuracy: 0.9918 - val_loss: 0.5075 - val_accuracy: 0.9040\n",
      "Epoch 20/20\n",
      "50/50 [==============================] - 98s 2s/step - loss: 0.0339 - accuracy: 0.9867 - val_loss: 0.4215 - val_accuracy: 0.9217\n"
     ]
    }
   ],
   "source": [
    "checkpoint = ModelCheckpoint('model-{epoch:03d}.model',monitor='val_loss',verbose=0,save_best_only=True,mode='auto')\n",
    "history=model.fit(train_data,train_target,epochs=20,callbacks=[checkpoint],validation_split=0.2)"
   ]
  },
  {
   "cell_type": "code",
   "execution_count": 9,
   "metadata": {},
   "outputs": [
    {
     "name": "stdout",
     "output_type": "stream",
     "text": [
      "7/7 [==============================] - 3s 465ms/step - loss: 0.2222 - accuracy: 0.9364\n",
      "[0.22223283350467682, 0.9363636374473572]\n"
     ]
    }
   ],
   "source": [
    "print(model.evaluate(test_data,test_target))"
   ]
  },
  {
   "cell_type": "code",
   "execution_count": 13,
   "metadata": {},
   "outputs": [
    {
     "name": "stdout",
     "output_type": "stream",
     "text": [
      "INFO:tensorflow:Assets written to: C:\\Users\\abuba\\Downloads\\face-mask-detection-keras-master\\face-mask-detection-keras-master\\model\\assets\n"
     ]
    }
   ],
   "source": [
    "model.save('C:\\\\Users\\\\abuba\\\\Downloads\\\\face-mask-detection-keras-master\\\\face-mask-detection-keras-master\\\\model')"
   ]
  },
  {
   "cell_type": "code",
   "execution_count": null,
   "metadata": {},
   "outputs": [],
   "source": []
  }
 ],
 "metadata": {
  "kernelspec": {
   "display_name": "Python 3",
   "language": "python",
   "name": "python3"
  },
  "language_info": {
   "codemirror_mode": {
    "name": "ipython",
    "version": 3
   },
   "file_extension": ".py",
   "mimetype": "text/x-python",
   "name": "python",
   "nbconvert_exporter": "python",
   "pygments_lexer": "ipython3",
   "version": "3.7.4"
  }
 },
 "nbformat": 4,
 "nbformat_minor": 4
}
